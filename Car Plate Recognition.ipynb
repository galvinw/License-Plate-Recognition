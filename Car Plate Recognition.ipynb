{
 "cells": [
  {
   "cell_type": "code",
   "execution_count": 1,
   "metadata": {},
   "outputs": [],
   "source": [
    "import os\n",
    "import cv2\n",
    "import random\n",
    "import numpy as np\n",
    "import pandas as pd\n",
    "from pytesseract import image_to_string"
   ]
  },
  {
   "cell_type": "code",
   "execution_count": 3,
   "metadata": {
    "scrolled": false
   },
   "outputs": [
    {
     "name": "stdout",
     "output_type": "stream",
     "text": [
      "True: taxi1.jpg Result: 1F\n",
      "True: WMG70.jpg Result: \n",
      "True: bbb8888.jpg Result: BBB8888\n",
      "True: PNB1856.jpg Result: PNB1856\n",
      "True: JRY3956.jpg Result: JRY3906\n",
      "True: img1.jpg Result: S32H\n",
      "True: PJG920.jpg Result: PJG920\n",
      "True: im4u.jpg Result: \n",
      "True: ZC.jpg Result: 203035\n",
      "True: PMD1334.jpg Result: PMD1334\n",
      "True: PHG8961.jpg Result: PHG8361\n",
      "True: taxi2.jpg Result: \n",
      "True: PJL2972.jpg Result: \n",
      "True: VJ3085.jpg Result: VJ3085\n",
      "True: PLV6874.jpg Result: PLV6874\n",
      "True: PLF7621.jpg Result: PLF7621\n",
      "True: PMC6628.jpg Result: \n",
      "True: WA688M.jpg Result: WA688M\n",
      "True: BME9819.jpg Result: BME9819\n",
      "True: PHM3789.jpg Result: PHM3789\n",
      "True: 5507.jpg Result: 5507\n",
      "True: PGD3086.jpg Result: PGD3086\n",
      "True: PGJ5161.jpg Result: PGJ5161\n",
      "True: hyphenplate.license_0.jpg Result: 2808DC\n",
      "True: PHG2945.jpg Result: PHG2945\n",
      "True: sukom.jpg Result: STTRRTL\n",
      "True: xoic4.jpg Result: X\n"
     ]
    }
   ],
   "source": [
    "def readimg(imgpath, alpha, beta):\n",
    "    image = cv2.imread(imgpath)\n",
    "    rgb = bincount_app(image)\n",
    "    taxi = check_if_its_taxi(rgb)\n",
    "    return taxi, image\n",
    "\n",
    "def bincount_app(a):\n",
    "    a2D = a.reshape(-1,a.shape[-1])\n",
    "    col_range = (256, 256, 256) # generically : a2D.max(0)+1\n",
    "    a1D = np.ravel_multi_index(a2D.T, col_range)\n",
    "    return np.unravel_index(np.bincount(a1D).argmax(), col_range)\n",
    "\n",
    "def check_if_its_taxi(rgb):\n",
    "    v = 0\n",
    "    for p in rgb:\n",
    "        v += p\n",
    "    if v/3 > 150:\n",
    "        return True\n",
    "    else:\n",
    "        return False\n",
    "\n",
    "def process_text(text):\n",
    "    L = list(text)\n",
    "    for t in text:\n",
    "        if t not in char:\n",
    "            L.remove(t)\n",
    "    return ''.join(L)\n",
    "\n",
    "imgfolderpath = '/home/yinghuit/Documents/license/'\n",
    "char = ['A', 'B', 'C', 'D', 'E', 'F', 'G', 'H', 'J', 'K',\n",
    "        'L', 'M', 'N', 'P', 'Q', 'R', 'S', 'T', 'U', 'V',\n",
    "        'W', 'X', 'Y', 'Z', '1', '2', '3', '4', '5', '6',\n",
    "        '7', '8', '9', '0']\n",
    "\n",
    "for image in os.listdir(imgfolderpath):\n",
    "    taxi, img = readimg(imgfolderpath + image, alpha=3.0, beta=1)\n",
    "    if taxi:\n",
    "        text = image_to_string(img)\n",
    "    else:\n",
    "        text = image_to_string(cv2.bitwise_not(img))\n",
    "    result = process_text(text)\n",
    "    print('True: ' + image + ' Result: ' + result)\n",
    "        \n",
    "if cv2.waitKey(0) == 27:\n",
    "    cv2.destroyAllWindows()"
   ]
  },
  {
   "cell_type": "code",
   "execution_count": 9,
   "metadata": {},
   "outputs": [],
   "source": [
    "car = '_PG_920|@'"
   ]
  },
  {
   "cell_type": "code",
   "execution_count": 15,
   "metadata": {},
   "outputs": [
    {
     "name": "stdout",
     "output_type": "stream",
     "text": [
      "PG920\n"
     ]
    }
   ],
   "source": [
    "char = ['A', 'B', 'C', 'D', 'E', 'F', 'G', 'H', 'J', 'K',\n",
    "        'L', 'M', 'N', 'P', 'Q', 'R', 'S', 'T', 'U', 'V',\n",
    "        'W', 'X', 'Y', 'Z', '1', '2', '3', '4', '5', '6',\n",
    "        '7', '8', '9', '0']\n",
    "L = list(car)\n",
    "\n",
    "for c in car:\n",
    "    if c not in char:\n",
    "        L.remove(c)\n",
    "\n",
    "print(''.join(L))"
   ]
  },
  {
   "cell_type": "code",
   "execution_count": null,
   "metadata": {},
   "outputs": [],
   "source": []
  }
 ],
 "metadata": {
  "kernelspec": {
   "display_name": "Python 3",
   "language": "python",
   "name": "python3"
  },
  "language_info": {
   "codemirror_mode": {
    "name": "ipython",
    "version": 3
   },
   "file_extension": ".py",
   "mimetype": "text/x-python",
   "name": "python",
   "nbconvert_exporter": "python",
   "pygments_lexer": "ipython3",
   "version": "3.6.8"
  }
 },
 "nbformat": 4,
 "nbformat_minor": 2
}
